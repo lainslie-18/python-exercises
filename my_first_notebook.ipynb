{
 "cells": [
  {
   "cell_type": "code",
   "execution_count": 2,
   "id": "9261c6b0",
   "metadata": {},
   "outputs": [
    {
     "name": "stdout",
     "output_type": "stream",
     "text": [
      "['red', 'orange', 'yellow', 'green', 'blue', 'purple']\n"
     ]
    }
   ],
   "source": [
    "colors_of_the_rainbow = ['red','orange','yellow','green','blue','purple']\n",
    "print(colors_of_the_rainbow)"
   ]
  },
  {
   "cell_type": "code",
   "execution_count": 4,
   "id": "788cc542",
   "metadata": {},
   "outputs": [
    {
     "name": "stdout",
     "output_type": "stream",
     "text": [
      "55\n"
     ]
    }
   ],
   "source": [
    "print(sum(range(0,11)))"
   ]
  },
  {
   "cell_type": "code",
   "execution_count": 6,
   "id": "ec84ac64",
   "metadata": {},
   "outputs": [
    {
     "name": "stdout",
     "output_type": "stream",
     "text": [
      "False\n"
     ]
    }
   ],
   "source": [
    "print(type(7) == float)"
   ]
  },
  {
   "cell_type": "markdown",
   "id": "0185e9ee",
   "metadata": {},
   "source": [
    "# Jupyter Notebook Shortcuts\n",
    "- `shift + enter` runs the current cell and selects below\n",
    "- `command + d` delete whole line\n",
    "- `command + down arrow` go to cell start\n",
    "- `command + up arrow` go to cell end"
   ]
  },
  {
   "cell_type": "code",
   "execution_count": null,
   "id": "c9c8922a",
   "metadata": {},
   "outputs": [],
   "source": []
  }
 ],
 "metadata": {
  "kernelspec": {
   "display_name": "Python 3",
   "language": "python",
   "name": "python3"
  },
  "language_info": {
   "codemirror_mode": {
    "name": "ipython",
    "version": 3
   },
   "file_extension": ".py",
   "mimetype": "text/x-python",
   "name": "python",
   "nbconvert_exporter": "python",
   "pygments_lexer": "ipython3",
   "version": "3.8.8"
  }
 },
 "nbformat": 4,
 "nbformat_minor": 5
}
