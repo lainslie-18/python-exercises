{
 "cells": [
  {
   "cell_type": "code",
   "execution_count": 2,
   "id": "9261c6b0",
   "metadata": {},
   "outputs": [
    {
     "data": {
      "text/plain": [
       "['red', 'orange', 'yellow', 'green', 'blue', 'purple']"
      ]
     },
     "execution_count": 2,
     "metadata": {},
     "output_type": "execute_result"
    }
   ],
   "source": [
    "colors_of_the_rainbow = ['red','orange','yellow','green','blue','purple']\n",
    "colors_of_the_rainbow"
   ]
  },
  {
   "cell_type": "code",
   "execution_count": 3,
   "id": "788cc542",
   "metadata": {},
   "outputs": [
    {
     "data": {
      "text/plain": [
       "55"
      ]
     },
     "execution_count": 3,
     "metadata": {},
     "output_type": "execute_result"
    }
   ],
   "source": [
    "sum(range(0,11))"
   ]
  },
  {
   "cell_type": "code",
   "execution_count": 4,
   "id": "ec84ac64",
   "metadata": {},
   "outputs": [
    {
     "data": {
      "text/plain": [
       "False"
      ]
     },
     "execution_count": 4,
     "metadata": {},
     "output_type": "execute_result"
    }
   ],
   "source": [
    "type(7) == float"
   ]
  },
  {
   "cell_type": "markdown",
   "id": "0185e9ee",
   "metadata": {},
   "source": [
    "# Jupyter Notebook Shortcuts\n",
    "- `shift + enter` runs the current cell and selects below\n",
    "- `command + d` delete whole line\n",
    "- `command + down arrow` go to cell start\n",
    "- `command + up arrow` go to cell end"
   ]
  },
  {
   "cell_type": "code",
   "execution_count": 1,
   "id": "c9c8922a",
   "metadata": {},
   "outputs": [
    {
     "name": "stdout",
     "output_type": "stream",
     "text": [
      "<class 'int'>\n"
     ]
    }
   ],
   "source": [
    "number_one = 1\n",
    "print(type(number_one))"
   ]
  },
  {
   "cell_type": "code",
   "execution_count": 5,
   "id": "a412da04",
   "metadata": {},
   "outputs": [
    {
     "data": {
      "text/plain": [
       "['red', 'orange', 'yellow', 'green', 'blue', 'purple']"
      ]
     },
     "execution_count": 5,
     "metadata": {},
     "output_type": "execute_result"
    }
   ],
   "source": [
    "colors_of_the_rainbow"
   ]
  },
  {
   "cell_type": "code",
   "execution_count": 7,
   "id": "77fe3b71",
   "metadata": {},
   "outputs": [],
   "source": [
    "colors_of_the_rainbow = ['blue','green','purple']"
   ]
  },
  {
   "cell_type": "code",
   "execution_count": 8,
   "id": "f4859cdc",
   "metadata": {},
   "outputs": [
    {
     "name": "stdout",
     "output_type": "stream",
     "text": [
      "['blue', 'green', 'purple']\n"
     ]
    }
   ],
   "source": [
    "print(colors_of_the_rainbow)"
   ]
  },
  {
   "cell_type": "code",
   "execution_count": 9,
   "id": "4052573f",
   "metadata": {},
   "outputs": [
    {
     "data": {
      "text/plain": [
       "True"
      ]
     },
     "execution_count": 9,
     "metadata": {},
     "output_type": "execute_result"
    }
   ],
   "source": [
    "False or True"
   ]
  },
  {
   "cell_type": "code",
   "execution_count": 10,
   "id": "a626b6d3",
   "metadata": {},
   "outputs": [
    {
     "data": {
      "text/plain": [
       "False"
      ]
     },
     "execution_count": 10,
     "metadata": {},
     "output_type": "execute_result"
    }
   ],
   "source": [
    "True and False"
   ]
  },
  {
   "cell_type": "code",
   "execution_count": 11,
   "id": "1143e64a",
   "metadata": {},
   "outputs": [
    {
     "data": {
      "text/plain": [
       "False"
      ]
     },
     "execution_count": 11,
     "metadata": {},
     "output_type": "execute_result"
    }
   ],
   "source": [
    "False and True"
   ]
  },
  {
   "cell_type": "code",
   "execution_count": 12,
   "id": "e0dc43a3",
   "metadata": {},
   "outputs": [],
   "source": [
    "string = 'lori''s string'"
   ]
  },
  {
   "cell_type": "code",
   "execution_count": 13,
   "id": "0f616083",
   "metadata": {},
   "outputs": [
    {
     "name": "stdout",
     "output_type": "stream",
     "text": [
      "loris string\n"
     ]
    }
   ],
   "source": [
    "print(string)"
   ]
  },
  {
   "cell_type": "code",
   "execution_count": null,
   "id": "ef700ffc",
   "metadata": {},
   "outputs": [],
   "source": []
  }
 ],
 "metadata": {
  "kernelspec": {
   "display_name": "Python 3",
   "language": "python",
   "name": "python3"
  },
  "language_info": {
   "codemirror_mode": {
    "name": "ipython",
    "version": 3
   },
   "file_extension": ".py",
   "mimetype": "text/x-python",
   "name": "python",
   "nbconvert_exporter": "python",
   "pygments_lexer": "ipython3",
   "version": "3.8.8"
  }
 },
 "nbformat": 4,
 "nbformat_minor": 5
}
