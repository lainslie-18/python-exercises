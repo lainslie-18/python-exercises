{
 "cells": [
  {
   "cell_type": "markdown",
   "id": "7f589547",
   "metadata": {},
   "source": [
    "1. Define a function named `is_two`. It should accept one input and return `True` if the passed input is either the number or the string 2, `False` otherwise."
   ]
  },
  {
   "cell_type": "code",
   "execution_count": 3,
   "id": "612d76dd",
   "metadata": {},
   "outputs": [
    {
     "name": "stdout",
     "output_type": "stream",
     "text": [
      "True\n"
     ]
    }
   ],
   "source": [
    "def is_two(x):\n",
    "    return x == 2 or x == 'two'\n",
    "print(is_two(2))"
   ]
  },
  {
   "cell_type": "markdown",
   "id": "34ae1e07",
   "metadata": {},
   "source": [
    "2. Define a function named `is_vowel`. It should return `True` if the passed string is a vowel, `False` otherwise."
   ]
  },
  {
   "cell_type": "code",
   "execution_count": 40,
   "id": "45b5c83c",
   "metadata": {},
   "outputs": [
    {
     "name": "stdout",
     "output_type": "stream",
     "text": [
      "True\n"
     ]
    }
   ],
   "source": [
    "def is_vowel(some_letter):\n",
    "    return some_letter.lower() in 'aeiou'\n",
    "print(is_vowel('A'))"
   ]
  },
  {
   "cell_type": "markdown",
   "id": "a1cce2ca",
   "metadata": {},
   "source": [
    "3. Define a function named is_consonant. It should return True if the passed string is a consonant, False otherwise. Use your is_vowel function to accomplish this."
   ]
  },
  {
   "cell_type": "code",
   "execution_count": 38,
   "id": "870f7a4a",
   "metadata": {},
   "outputs": [
    {
     "name": "stdout",
     "output_type": "stream",
     "text": [
      "False\n"
     ]
    }
   ],
   "source": [
    "def is_consonant(some_letter):\n",
    "    return not is_vowel(some_letter)\n",
    "print(is_consonant('a'))"
   ]
  },
  {
   "cell_type": "markdown",
   "id": "4ae820f5",
   "metadata": {},
   "source": [
    "4. Define a function that accepts a string that is a word. The function should capitalize the first letter of the word if the word starts with a consonant."
   ]
  },
  {
   "cell_type": "code",
   "execution_count": 59,
   "id": "829256b9",
   "metadata": {},
   "outputs": [
    {
     "name": "stdout",
     "output_type": "stream",
     "text": [
      "Puppies are the best!\n"
     ]
    }
   ],
   "source": [
    "def capitalize_consonants(some_word):\n",
    "    new_word = some_word.strip()\n",
    "    if is_consonant(some_word[0]):\n",
    "        return new_word.capitalize()\n",
    "print(capitalize_consonants(' puppies are the best!'))"
   ]
  },
  {
   "cell_type": "markdown",
   "id": "267b0cea",
   "metadata": {},
   "source": [
    "5. Define a function named calculate_tip. It should accept a tip percentage (a number between 0 and 1) and the bill total, and return the amount to tip."
   ]
  },
  {
   "cell_type": "code",
   "execution_count": 24,
   "id": "604032c3",
   "metadata": {},
   "outputs": [
    {
     "name": "stdout",
     "output_type": "stream",
     "text": [
      "7.95\n"
     ]
    }
   ],
   "source": [
    "def calculate_tip(tip_percentage, bill_total):\n",
    "    return round(bill_total * tip_percentage, 2)\n",
    "print(calculate_tip(.3, 26.50))"
   ]
  },
  {
   "cell_type": "markdown",
   "id": "9db8aa47",
   "metadata": {},
   "source": [
    "6. Define a function named apply_discount. It should accept a original price, and a discount percentage, and return the price after the discount is applied."
   ]
  },
  {
   "cell_type": "code",
   "execution_count": 26,
   "id": "451b325b",
   "metadata": {},
   "outputs": [
    {
     "name": "stdout",
     "output_type": "stream",
     "text": [
      "41.25\n"
     ]
    }
   ],
   "source": [
    "def apply_discount(original_price, discount_percentage):\n",
    "    return round(original_price * (1 - discount_percentage), 2)\n",
    "print(apply_discount(55, .25))"
   ]
  },
  {
   "cell_type": "markdown",
   "id": "1a0306da",
   "metadata": {},
   "source": [
    "7. Define a function named handle_commas. It should accept a string that is a number that contains commas in it as input, and return a number as output."
   ]
  },
  {
   "cell_type": "code",
   "execution_count": 31,
   "id": "a181076f",
   "metadata": {},
   "outputs": [
    {
     "name": "stdout",
     "output_type": "stream",
     "text": [
      "1000000\n"
     ]
    }
   ],
   "source": [
    "def handle_commas(num_str_w_commas):\n",
    "    new_num_str = ''\n",
    "    for num in num_str_w_commas:\n",
    "        if num != ',':\n",
    "            new_num_str += num\n",
    "    return int(new_num_str)\n",
    "print(handle_commas('1,000,000'))"
   ]
  },
  {
   "cell_type": "markdown",
   "id": "2c240846",
   "metadata": {},
   "source": [
    "8. Define a function named get_letter_grade. It should accept a number and return the letter grade associated with that number (A-F)."
   ]
  },
  {
   "cell_type": "code",
   "execution_count": 35,
   "id": "a22f3f79",
   "metadata": {},
   "outputs": [
    {
     "name": "stdout",
     "output_type": "stream",
     "text": [
      "A\n"
     ]
    }
   ],
   "source": [
    "def get_letter_grade(some_num):\n",
    "    if some_num >= 88:\n",
    "        return 'A'\n",
    "    elif some_num >= 80:\n",
    "        return 'B'\n",
    "    elif some_num >= 67:\n",
    "        return 'C'\n",
    "    elif some_num >= 60:\n",
    "        return 'D'\n",
    "    else:\n",
    "        return 'F'\n",
    "        \n",
    "print(get_letter_grade(97))"
   ]
  },
  {
   "cell_type": "markdown",
   "id": "49a0ce57",
   "metadata": {},
   "source": [
    "9. Define a function named remove_vowels that accepts a string and returns a string with all the vowels removed."
   ]
  },
  {
   "cell_type": "code",
   "execution_count": 41,
   "id": "be1bead8",
   "metadata": {},
   "outputs": [
    {
     "name": "stdout",
     "output_type": "stream",
     "text": [
      "ll rnd m r fmlr fcs,\n"
     ]
    }
   ],
   "source": [
    "def remove_vowels(some_str):\n",
    "    new_str = ''\n",
    "    for ch in some_str:\n",
    "        if is_consonant(ch):\n",
    "            new_str += ch\n",
    "    return new_str\n",
    "print(remove_vowels('All around me are familiar faces,'))"
   ]
  },
  {
   "cell_type": "markdown",
   "id": "e93ea212",
   "metadata": {},
   "source": [
    "Define a function named normalize_name. It should accept a string and return a valid python identifier, that is:\n",
    "- anything that is not a valid python identifier should be removed\n",
    "- leading and trailing whitespace should be removed\n",
    "- everything should be lowercase\n",
    "- spaces should be replaced with underscores\n",
    "- for example:\n",
    "    - Name will become name\n",
    "    - First Name will become first_name\n",
    "    - % Completed will become completed"
   ]
  },
  {
   "cell_type": "code",
   "execution_count": 53,
   "id": "b548e0e4",
   "metadata": {},
   "outputs": [
    {
     "name": "stdout",
     "output_type": "stream",
     "text": [
      "this_is_my__test_string\n"
     ]
    }
   ],
   "source": [
    "def normalize_name(some_str):\n",
    "    new_str = some_str.strip().lower()\n",
    "    python_identifier = ''\n",
    "    while new_str[0].isdigit():\n",
    "        new_str = new_str[1:]\n",
    "        \n",
    "    for ch in new_str:\n",
    "        if ch.isalnum():\n",
    "            python_identifier += ch\n",
    "        elif ch == ' ' or ch == '_':\n",
    "            python_identifier += '_'\n",
    "        else:\n",
    "            continue\n",
    "    \n",
    "    if python_identifier[0] == '_':\n",
    "        python_identifier = python_identifier[1:]\n",
    "    return python_identifier\n",
    "\n",
    "print(normalize_name(' 2857 %ThIS is_My % teST STrInG '))\n"
   ]
  },
  {
   "cell_type": "markdown",
   "id": "1083bc66",
   "metadata": {},
   "source": [
    "11. Write a function named cumulative_sum that accepts a list of numbers and returns a list that is the cumulative sum of the numbers in the list.\n",
    "- cumulative_sum([1, 1, 1]) returns [1, 2, 3]\n",
    "- cumulative_sum([1, 2, 3, 4]) returns [1, 3, 6, 10]"
   ]
  },
  {
   "cell_type": "code",
   "execution_count": 57,
   "id": "f1f5ff49",
   "metadata": {},
   "outputs": [
    {
     "name": "stdout",
     "output_type": "stream",
     "text": [
      "[10, 19, 26, 30, 30]\n"
     ]
    }
   ],
   "source": [
    "def cumulative_sum(num_list):\n",
    "    sum_list = [num_list[0]]\n",
    "    for num in num_list[1:]:\n",
    "        sum_list.append(num + sum_list[-1])\n",
    "    return sum_list\n",
    "print(cumulative_sum([10,9,7,4,0]))"
   ]
  },
  {
   "cell_type": "markdown",
   "id": "716c28e9",
   "metadata": {},
   "source": [
    "Bonus 1. Create a function named twelveto24. It should accept a string in the format 10:45am or 4:30pm and return a string that is the representation of the time in a 24-hour format. Bonus write a function that does the opposite."
   ]
  },
  {
   "cell_type": "code",
   "execution_count": 73,
   "id": "c7ea6ef4",
   "metadata": {},
   "outputs": [
    {
     "name": "stdout",
     "output_type": "stream",
     "text": [
      "16:45\n"
     ]
    }
   ],
   "source": [
    "def twelveto24(time_str):\n",
    "    hh = time_str.split(':')[0]\n",
    "    mm = ''\n",
    "    am_pm = ''\n",
    "    for ch in time_str.split(':')[1]:\n",
    "        if ch.isdigit():\n",
    "            mm += ch\n",
    "        elif ch.isalpha():\n",
    "            am_pm += ch\n",
    "        else:\n",
    "            continue\n",
    "    if am_pm.lower() == 'am':\n",
    "        return hh + ':' + mm\n",
    "    else:\n",
    "        return str(int(hh) + 12) + ':' + mm\n",
    "    \n",
    "print(twelveto24('4:45pm'))"
   ]
  },
  {
   "cell_type": "code",
   "execution_count": 83,
   "id": "50457556",
   "metadata": {},
   "outputs": [
    {
     "name": "stdout",
     "output_type": "stream",
     "text": [
      "6:30pm\n"
     ]
    }
   ],
   "source": [
    "def twentyfourto12(time_str):\n",
    "    hh = int(time_str.split(':')[0])\n",
    "    mm = int(time_str.split(':')[1])\n",
    "    \n",
    "    if hh == 0:\n",
    "        return ('12') + ':' + str(mm) + 'am'\n",
    "    elif hh == 12:\n",
    "        return str(hh) + ':' + str(mm) + 'pm'\n",
    "    elif 24 >= hh > 12:\n",
    "        return str(hh - 12) + ':' + str(mm) + 'pm'\n",
    "    elif 12 > hh > 0:\n",
    "        return str(hh) + ':' + str(mm) + 'am'\n",
    "    else:\n",
    "        return 'invalid input'\n",
    "    \n",
    "print(twentyfourto12('18:30'))"
   ]
  },
  {
   "cell_type": "markdown",
   "id": "88d57250",
   "metadata": {},
   "source": [
    "Bonus 2. Create a function named col_index. It should accept a spreadsheet column name, and return the index number of the column.\n",
    "- col_index('A') returns 1\n",
    "- col_index('B') returns 2\n",
    "- col_index('AA') returns 27"
   ]
  },
  {
   "cell_type": "code",
   "execution_count": 13,
   "id": "75d15bc5",
   "metadata": {},
   "outputs": [
    {
     "name": "stdout",
     "output_type": "stream",
     "text": [
      "8514\n"
     ]
    }
   ],
   "source": [
    "import string\n",
    "\n",
    "def col_index(column_name): #XFD is the last returnable column\n",
    "    alpha = list(string.ascii_uppercase)\n",
    "    alpha2 = alpha.copy()\n",
    "    \n",
    "    for ch1 in alpha:\n",
    "        for ch2 in alpha:\n",
    "            alpha2.append(ch1 + ch2)\n",
    "            \n",
    "    for ch1 in alpha:\n",
    "        for ch2 in alpha:\n",
    "            for ch3 in alpha:\n",
    "                alpha2.append(ch1 + ch2 + ch3) \n",
    "\n",
    "    column_dict = dict(list(zip(alpha2, range(1,16_385))))\n",
    "    \n",
    "    return column_dict[column_name.upper()]\n",
    "\n",
    "print(col_index('lol'))"
   ]
  }
 ],
 "metadata": {
  "kernelspec": {
   "display_name": "Python 3",
   "language": "python",
   "name": "python3"
  },
  "language_info": {
   "codemirror_mode": {
    "name": "ipython",
    "version": 3
   },
   "file_extension": ".py",
   "mimetype": "text/x-python",
   "name": "python",
   "nbconvert_exporter": "python",
   "pygments_lexer": "ipython3",
   "version": "3.8.8"
  }
 },
 "nbformat": 4,
 "nbformat_minor": 5
}
