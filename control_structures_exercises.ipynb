{
 "cells": [
  {
   "cell_type": "code",
   "execution_count": 16,
   "id": "42d06ada",
   "metadata": {},
   "outputs": [
    {
     "name": "stdout",
     "output_type": "stream",
     "text": [
      "What is your favorite day of the week? monday\n",
      "Your favorite day of the week is Monday???\n"
     ]
    }
   ],
   "source": [
    "# 1. Conditional Basics\n",
    "\n",
    "# a. prompt the user for a day of the week, print out whether the day is Monday or not\n",
    "day_of_week = input('What is your favorite day of the week? ')\n",
    "\n",
    "if day_of_week == 'Monday' or 'monday':\n",
    "    print('Your favorite day of the week is Monday???')\n",
    "else:\n",
    "    print(f'Your favorite day of the week is {day_of_week}.')\n"
   ]
  },
  {
   "cell_type": "code",
   "execution_count": 20,
   "id": "cc7effcf",
   "metadata": {},
   "outputs": [
    {
     "name": "stdout",
     "output_type": "stream",
     "text": [
      "Please enter a day of the week. Sunday\n",
      "Sunday is a weekend.\n"
     ]
    }
   ],
   "source": [
    "# b. prompt the user for a day of the week, print out whether the day is a weekday or a weekend\n",
    "day_of_the_week = input('Please enter a day of the week. ')\n",
    "\n",
    "if day_of_the_week.lower() in ['saturday','sunday']:\n",
    "    print(f'{day_of_the_week} is a weekend.')\n",
    "elif day_of_the_week.lower() in ['monday', 'tuesday','wednesday','thursday','friday']:\n",
    "    print(f'{day_of_the_week} is a weekday.')\n",
    "else:\n",
    "    print('invalid input')"
   ]
  },
  {
   "cell_type": "code",
   "execution_count": 38,
   "id": "1fe35286",
   "metadata": {},
   "outputs": [
    {
     "name": "stdout",
     "output_type": "stream",
     "text": [
      "2745.0\n"
     ]
    }
   ],
   "source": [
    "# c. create variables and make up values for\n",
    "#    the number of hours worked in one week\n",
    "#    the hourly rate\n",
    "#    how much the week's paycheck will be\n",
    "#    write the python code that calculates the weekly paycheck. You get paid time and a half if you work more than 40 hours\n",
    "\n",
    "weekly_hours = 54\n",
    "hourly_rate = 45\n",
    "week_paycheck = 0\n",
    "if weekly_hours <= 40:\n",
    "    week_paycheck = weekly_hours * hourly_rate\n",
    "else:\n",
    "    week_paycheck = (40 * hourly_rate) + ((weekly_hours - 40) * (hourly_rate * 1.5))\n",
    "print(week_paycheck)\n",
    "    "
   ]
  },
  {
   "cell_type": "code",
   "execution_count": 39,
   "id": "f8c124e9",
   "metadata": {},
   "outputs": [
    {
     "name": "stdout",
     "output_type": "stream",
     "text": [
      "5\n",
      "6\n",
      "7\n",
      "8\n",
      "9\n",
      "10\n",
      "11\n",
      "12\n",
      "13\n",
      "14\n",
      "15\n"
     ]
    }
   ],
   "source": [
    "# 2. Loop Basics\n",
    "\n",
    "# a. While\n",
    "\n",
    "# Create an integer variable i with a value of 5.\n",
    "# Create a while loop that runs so long as i is less than or equal to 15\n",
    "# Each loop iteration, output the current value of i, then increment i by one.\n",
    "\n",
    "i = 5\n",
    "while i <= 15:\n",
    "    print(i)\n",
    "    i += 1\n"
   ]
  },
  {
   "cell_type": "code",
   "execution_count": 45,
   "id": "0f823e5b",
   "metadata": {},
   "outputs": [
    {
     "name": "stdout",
     "output_type": "stream",
     "text": [
      "0\n",
      "2\n",
      "4\n",
      "6\n",
      "8\n",
      "10\n",
      "12\n",
      "14\n",
      "16\n",
      "18\n",
      "20\n",
      "22\n",
      "24\n",
      "26\n",
      "28\n",
      "30\n",
      "32\n",
      "34\n",
      "36\n",
      "38\n",
      "40\n",
      "42\n",
      "44\n",
      "46\n",
      "48\n",
      "50\n",
      "52\n",
      "54\n",
      "56\n",
      "58\n",
      "60\n",
      "62\n",
      "64\n",
      "66\n",
      "68\n",
      "70\n",
      "72\n",
      "74\n",
      "76\n",
      "78\n",
      "80\n",
      "82\n",
      "84\n",
      "86\n",
      "88\n",
      "90\n",
      "92\n",
      "94\n",
      "96\n",
      "98\n",
      "100\n"
     ]
    }
   ],
   "source": [
    "# Create a while loop that will count by 2's starting with 0 and ending at 100. Follow each number with a new line.\n",
    "\n",
    "num = 0\n",
    "while num <= 100:\n",
    "    print(num)\n",
    "    num += 2\n",
    "    "
   ]
  },
  {
   "cell_type": "code",
   "execution_count": 46,
   "id": "39cbeb97",
   "metadata": {},
   "outputs": [
    {
     "name": "stdout",
     "output_type": "stream",
     "text": [
      "100\n",
      "95\n",
      "90\n",
      "85\n",
      "80\n",
      "75\n",
      "70\n",
      "65\n",
      "60\n",
      "55\n",
      "50\n",
      "45\n",
      "40\n",
      "35\n",
      "30\n",
      "25\n",
      "20\n",
      "15\n",
      "10\n",
      "5\n",
      "0\n",
      "-5\n",
      "-10\n"
     ]
    }
   ],
   "source": [
    "# Alter your loop to count backwards by 5's from 100 to -10.\n",
    "\n",
    "num = 100\n",
    "while num >= -10:\n",
    "    print(num)\n",
    "    num -= 5"
   ]
  },
  {
   "cell_type": "code",
   "execution_count": 47,
   "id": "418339b4",
   "metadata": {},
   "outputs": [
    {
     "name": "stdout",
     "output_type": "stream",
     "text": [
      "2\n",
      "4\n",
      "16\n",
      "256\n",
      "65536\n"
     ]
    }
   ],
   "source": [
    "# Create a while loop that starts at 2, and displays the number squared on each line while the number is \n",
    "# less than 1,000,000.\n",
    "num = 2\n",
    "while num < 1000000:\n",
    "    print(num)\n",
    "    num = num**2\n",
    "    \n"
   ]
  },
  {
   "cell_type": "code",
   "execution_count": 48,
   "id": "7b1c5b37",
   "metadata": {},
   "outputs": [
    {
     "name": "stdout",
     "output_type": "stream",
     "text": [
      "100\n",
      "95\n",
      "90\n",
      "85\n",
      "80\n",
      "75\n",
      "70\n",
      "65\n",
      "60\n",
      "55\n",
      "50\n",
      "45\n",
      "40\n",
      "35\n",
      "30\n",
      "25\n",
      "20\n",
      "15\n",
      "10\n",
      "5\n"
     ]
    }
   ],
   "source": [
    "# Write a loop that uses print to create the output shown below.\n",
    "num = 100\n",
    "while num > 0:\n",
    "    print(num)\n",
    "    num -= 5"
   ]
  },
  {
   "cell_type": "code",
   "execution_count": 62,
   "id": "87c5954f",
   "metadata": {},
   "outputs": [
    {
     "name": "stdout",
     "output_type": "stream",
     "text": [
      "Please enter a number. 18\n",
      "18 x 1 = 18\n",
      "18 x 2 = 36\n",
      "18 x 3 = 54\n",
      "18 x 4 = 72\n",
      "18 x 5 = 90\n",
      "18 x 6 = 108\n",
      "18 x 7 = 126\n",
      "18 x 8 = 144\n",
      "18 x 9 = 162\n",
      "18 x 10 = 180\n"
     ]
    }
   ],
   "source": [
    "# b. For Loops\n",
    "\n",
    "# i. Write some code that prompts the user for a number, then shows a multiplication table up through 10 for that number.\n",
    "# For example, if the user enters 7, your program should output:\n",
    "\n",
    "num = input('Please enter a number. ')\n",
    "for i in range(1,11):\n",
    "    print(f'{num} x {i} = {i * int(num)}')"
   ]
  },
  {
   "cell_type": "code",
   "execution_count": 63,
   "id": "6ca285c9",
   "metadata": {},
   "outputs": [
    {
     "name": "stdout",
     "output_type": "stream",
     "text": [
      "1\n",
      "22\n",
      "333\n",
      "4444\n",
      "55555\n",
      "666666\n",
      "7777777\n",
      "88888888\n",
      "999999999\n"
     ]
    }
   ],
   "source": [
    "# ii. Create a for loop that uses print to create the output shown below.\n",
    "for num in range(1,10):\n",
    "    print(str(num) * num)\n"
   ]
  },
  {
   "cell_type": "code",
   "execution_count": 29,
   "id": "c4ca01b2",
   "metadata": {},
   "outputs": [
    {
     "name": "stdout",
     "output_type": "stream",
     "text": [
      "Please enter an odd number between 1 and 50. 3\n",
      "Here is an odd number:1.\n",
      "Yikes! Skipping number: 3.\n",
      "Here is an odd number:5.\n",
      "Here is an odd number:7.\n",
      "Here is an odd number:9.\n",
      "Here is an odd number:11.\n",
      "Here is an odd number:13.\n",
      "Here is an odd number:15.\n",
      "Here is an odd number:17.\n",
      "Here is an odd number:19.\n",
      "Here is an odd number:21.\n",
      "Here is an odd number:23.\n",
      "Here is an odd number:25.\n",
      "Here is an odd number:27.\n",
      "Here is an odd number:29.\n",
      "Here is an odd number:31.\n",
      "Here is an odd number:33.\n",
      "Here is an odd number:35.\n",
      "Here is an odd number:37.\n",
      "Here is an odd number:39.\n",
      "Here is an odd number:41.\n",
      "Here is an odd number:43.\n",
      "Here is an odd number:45.\n",
      "Here is an odd number:47.\n",
      "Here is an odd number:49.\n"
     ]
    }
   ],
   "source": [
    "# break and continue\n",
    "\n",
    "# c. Prompt the user for an odd number between 1 and 50. Use a loop and a break statement to continue prompting \n",
    "# the user if they enter invalid input. (Hint: use the isdigit method on strings to determine this). Use a loop and the \n",
    "# continue statement to output all the odd numbers between 1 and 50, except for the number the user entered.\n",
    "\n",
    "odd_number = input('Please enter an odd number between 1 and 50. ')\n",
    "\n",
    "while True:\n",
    "    if (odd_number.isdigit() == False\n",
    "        or int(odd_number) > 50\n",
    "        or int(odd_number) < 1\n",
    "        or int(odd_number) % 2 == 0):\n",
    "        print('Invalid input')\n",
    "        odd_number = input('Please enter an odd number between 1 and 50. ')\n",
    "    else:\n",
    "        break\n",
    "\n",
    "odd_number = int(odd_number)\n",
    "for num in range(1, 51):\n",
    "    if num % 2 == 0:\n",
    "        continue\n",
    "    elif num == odd_number:\n",
    "        print(f'Yikes! Skipping number: {odd_number}.')\n",
    "    else:\n",
    "        print(f'Here is an odd number: {num}.')\n",
    "                                                                      "
   ]
  },
  {
   "cell_type": "code",
   "execution_count": 44,
   "id": "1f6f81f5",
   "metadata": {},
   "outputs": [
    {
     "name": "stdout",
     "output_type": "stream",
     "text": [
      "Please enter a positive number. -2\n",
      "Invalid input\n",
      "Please enter a positive number. 7\n",
      "0\n",
      "1\n",
      "2\n",
      "3\n",
      "4\n",
      "5\n",
      "6\n",
      "7\n"
     ]
    }
   ],
   "source": [
    "# d. The input function can be used to prompt for input and use that input in your python code. Prompt the user to\n",
    "# enter a positive number and write a loop that counts from 0 to that number. (Hints: first make sure that the value \n",
    "# the user entered is a valid number, also note that the input function returns a string, so you'll need to convert\n",
    "# this to a numeric type.)\n",
    "\n",
    "\n",
    "while True:\n",
    "    positive_num = input('Please enter a positive number. ')\n",
    "    if (positive_num.isdigit() == False\n",
    "        or int(positive_num) <= 0):\n",
    "        print('Invalid input')\n",
    "    else:\n",
    "        break\n",
    "\n",
    "for num in range(0, int(positive_num) + 1):\n",
    "    print(num)\n"
   ]
  },
  {
   "cell_type": "code",
   "execution_count": 79,
   "id": "6e96929c",
   "metadata": {},
   "outputs": [
    {
     "name": "stdout",
     "output_type": "stream",
     "text": [
      "Please enter a positive number. 18\n",
      "18\n",
      "17\n",
      "16\n",
      "15\n",
      "14\n",
      "13\n",
      "12\n",
      "11\n",
      "10\n",
      "9\n",
      "8\n",
      "7\n",
      "6\n",
      "5\n",
      "4\n",
      "3\n",
      "2\n",
      "1\n"
     ]
    }
   ],
   "source": [
    "# e. Write a program that prompts the user for a positive integer. Next write a loop that prints out the numbers from the \n",
    "# number the user entered down to 1.\n",
    "\n",
    "positive_int = int(input('Please enter a positive number. '))\n",
    "counter = positive_int\n",
    "while counter >= 1:\n",
    "    print(counter)\n",
    "    counter -= 1"
   ]
  },
  {
   "cell_type": "code",
   "execution_count": 80,
   "id": "5f6cb70c",
   "metadata": {},
   "outputs": [
    {
     "name": "stdout",
     "output_type": "stream",
     "text": [
      "FizzBuzz\n",
      "1\n",
      "2\n",
      "Fizz\n",
      "4\n",
      "Buzz\n",
      "Fizz\n",
      "7\n",
      "8\n",
      "Fizz\n",
      "Buzz\n",
      "11\n",
      "Fizz\n",
      "13\n",
      "14\n",
      "FizzBuzz\n",
      "16\n",
      "17\n",
      "Fizz\n",
      "19\n",
      "Buzz\n",
      "Fizz\n",
      "22\n",
      "23\n",
      "Fizz\n",
      "Buzz\n",
      "26\n",
      "Fizz\n",
      "28\n",
      "29\n",
      "FizzBuzz\n",
      "31\n",
      "32\n",
      "Fizz\n",
      "34\n",
      "Buzz\n",
      "Fizz\n",
      "37\n",
      "38\n",
      "Fizz\n",
      "Buzz\n",
      "41\n",
      "Fizz\n",
      "43\n",
      "44\n",
      "FizzBuzz\n",
      "46\n",
      "47\n",
      "Fizz\n",
      "49\n",
      "Buzz\n",
      "Fizz\n",
      "52\n",
      "53\n",
      "Fizz\n",
      "Buzz\n",
      "56\n",
      "Fizz\n",
      "58\n",
      "59\n",
      "FizzBuzz\n",
      "61\n",
      "62\n",
      "Fizz\n",
      "64\n",
      "Buzz\n",
      "Fizz\n",
      "67\n",
      "68\n",
      "Fizz\n",
      "Buzz\n",
      "71\n",
      "Fizz\n",
      "73\n",
      "74\n",
      "FizzBuzz\n",
      "76\n",
      "77\n",
      "Fizz\n",
      "79\n",
      "Buzz\n",
      "Fizz\n",
      "82\n",
      "83\n",
      "Fizz\n",
      "Buzz\n",
      "86\n",
      "Fizz\n",
      "88\n",
      "89\n",
      "FizzBuzz\n",
      "91\n",
      "92\n",
      "Fizz\n",
      "94\n",
      "Buzz\n",
      "Fizz\n",
      "97\n",
      "98\n",
      "Fizz\n",
      "Buzz\n"
     ]
    }
   ],
   "source": [
    "# 3. One of the most common interview questions for entry-level programmers is the FizzBuzz test. Developed by Imran \n",
    "# Ghory, the test is designed to test basic looping and conditional logic skills.\n",
    "\n",
    "# Write a program that prints the numbers from 1 to 100.\n",
    "# For multiples of three print \"Fizz\" instead of the number\n",
    "# For the multiples of five print \"Buzz\".\n",
    "# For numbers which are multiples of both three and five print \"FizzBuzz\".\n",
    "\n",
    "for num in range(0,101):\n",
    "    if num % 3 == 0 and num % 5 == 0:\n",
    "        print('FizzBuzz')\n",
    "    elif num % 3 == 0:\n",
    "        print('Fizz')\n",
    "    elif num % 5 == 0:\n",
    "        print('Buzz')\n",
    "    else:\n",
    "        print(num)"
   ]
  },
  {
   "cell_type": "code",
   "execution_count": 13,
   "id": "73ee35f8",
   "metadata": {},
   "outputs": [
    {
     "name": "stdout",
     "output_type": "stream",
     "text": [
      "Please enter a number. 4\n",
      "Here is your table! \n",
      " \n",
      " number | squared | cubed \n",
      " -------|---------|--------\n",
      " 1      |1        |1       \n",
      " 2      |4        |8       \n",
      " 3      |9        |27       \n",
      " 4      |16        |64       \n",
      "Do you want to continue? y/n y\n",
      "Please enter a number. 12\n",
      "Here is your table! \n",
      " \n",
      " number | squared | cubed \n",
      " -------|---------|--------\n",
      " 1      |1        |1       \n",
      " 2      |4        |8       \n",
      " 3      |9        |27       \n",
      " 4      |16        |64       \n",
      " 5      |25        |125       \n",
      " 6      |36        |216       \n",
      " 7      |49        |343       \n",
      " 8      |64        |512       \n",
      " 9      |81        |729       \n",
      " 10      |100        |1000       \n",
      " 11      |121        |1331       \n",
      " 12      |144        |1728       \n",
      "Do you want to continue? y/n n\n"
     ]
    }
   ],
   "source": [
    "# 4. Display a table of powers.\n",
    "# Prompt the user to enter an integer.\n",
    "# Display a table of squares and cubes from 1 to the value entered.\n",
    "# Ask if the user wants to continue.\n",
    "# Assume that the user will enter valid data.\n",
    "# Only continue if the user agrees to.\n",
    "\n",
    "\n",
    "cont = 'y'\n",
    "while cont == 'y':\n",
    "    integer = int(input('Please enter a number. '))\n",
    "    print(f'Here is your table! \\n \\n number | squared | cubed \\n -------|---------|--------')\n",
    "    for num in range(1, integer + 1):\n",
    "        print(f' {num}      |{num**2}        |{num**3}       ')\n",
    "    cont = input('Do you want to continue? y/n ')"
   ]
  },
  {
   "cell_type": "code",
   "execution_count": 45,
   "id": "662d50a9",
   "metadata": {},
   "outputs": [
    {
     "name": "stdout",
     "output_type": "stream",
     "text": [
      "Please enter your grade (0 - 100). 88\n",
      "A\n",
      "Would you like to continue? y/n n\n"
     ]
    }
   ],
   "source": [
    "# 5. Convert given number grades into letter grades.\n",
    "\n",
    "# Prompt the user for a numerical grade from 0 to 100.\n",
    "# Display the corresponding letter grade.\n",
    "# Prompt the user to continue.\n",
    "# Assume that the user will enter valid integers for the grades.\n",
    "# The application should only continue if the user agrees to.\n",
    "# Grade Ranges:\n",
    "\n",
    "# A : 100 - 88\n",
    "# B : 87 - 80\n",
    "# C : 79 - 67\n",
    "# D : 66 - 60\n",
    "# F : 59 - 0\n",
    "\n",
    "cont = 'y'\n",
    "while cont == 'y':\n",
    "    grade = int(input('Please enter your grade (0 - 100). '))\n",
    "    if grade <= 100 and grade >= 88:\n",
    "        print('A')\n",
    "    elif grade < 88 and grade >= 80:\n",
    "        print('B')\n",
    "    elif grade < 80 and grade >= 67:\n",
    "        print('C')\n",
    "    elif grade < 67 and grade >= 60:\n",
    "        print('D')\n",
    "    else:\n",
    "        print('F')\n",
    "    cont = input('Would you like to continue? y/n ')\n"
   ]
  },
  {
   "cell_type": "code",
   "execution_count": 58,
   "id": "30ca8feb",
   "metadata": {},
   "outputs": [
    {
     "name": "stdout",
     "output_type": "stream",
     "text": [
      "{'title': 'Atomic Habits', 'author': 'James Clear', 'genre': 'productivity'}\n",
      "{'title': 'The Alchemist', 'author': 'Paulo Coelho', 'genre': 'fiction'}\n",
      "{'title': 'Atlas Shrugged', 'author': 'Ayn Rand', 'genre': 'fiction'}\n",
      "{'title': 'Einstein', 'author': 'Walter Isaacson', 'genre': 'biography'}\n",
      "Please enter a genre. biography\n",
      "['Einstein']\n"
     ]
    }
   ],
   "source": [
    "# Create a list of dictionaries where each dictionary represents a book that you have read. Each dictionary in the \n",
    "# list should have the keys title, author, and genre. Loop through the list and print out information about each book.\n",
    "\n",
    "# Prompt the user to enter a genre, then loop through your books list and print out the titles of all the books in \n",
    "# that genre.\n",
    "\n",
    "my_list_of_books = [{'title' : 'Atomic Habits', 'author': 'James Clear', 'genre' : 'productivity'}, \n",
    "                    {'title' : 'The Alchemist', 'author': 'Paulo Coelho', 'genre' : 'fiction'},\n",
    "                    {'title' : 'Atlas Shrugged', 'author': 'Ayn Rand', 'genre' : 'fiction'},\n",
    "                    {'title' : 'Einstein', 'author': 'Walter Isaacson', 'genre' : 'biography'}]\n",
    "\n",
    "for book in my_list_of_books:\n",
    "    print(book)\n",
    "    \n",
    "\n",
    "book_genre = input('Please enter a genre. ')\n",
    "books_in_genre = []\n",
    "for book in my_list_of_books:\n",
    "    if book_genre == book['genre']:\n",
    "        books_in_genre.append(book['title'])\n",
    "if len(books_in_genre) > 0:\n",
    "    print(books_in_genre)\n",
    "else:\n",
    "    print('Sorry, that genre does not exist in this library.')"
   ]
  }
 ],
 "metadata": {
  "kernelspec": {
   "display_name": "Python 3",
   "language": "python",
   "name": "python3"
  },
  "language_info": {
   "codemirror_mode": {
    "name": "ipython",
    "version": 3
   },
   "file_extension": ".py",
   "mimetype": "text/x-python",
   "name": "python",
   "nbconvert_exporter": "python",
   "pygments_lexer": "ipython3",
   "version": "3.8.8"
  }
 },
 "nbformat": 4,
 "nbformat_minor": 5
}
