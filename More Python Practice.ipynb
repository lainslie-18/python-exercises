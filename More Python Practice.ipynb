{
 "cells": [
  {
   "cell_type": "code",
   "execution_count": 2,
   "id": "aceadb7c",
   "metadata": {},
   "outputs": [],
   "source": [
    "import numpy as np\n",
    "from scipy import stats"
   ]
  },
  {
   "cell_type": "markdown",
   "id": "0f561ddf",
   "metadata": {},
   "source": [
    "### Task\n",
    "\n",
    "Given an array, `X`, of `N` integers, calculate and print the respective mean, median, and mode on separate lines. If the array contains more than one modal value, choose the numerically smallest one."
   ]
  },
  {
   "cell_type": "code",
   "execution_count": 17,
   "id": "bc6e794b",
   "metadata": {},
   "outputs": [
    {
     "name": "stdout",
     "output_type": "stream",
     "text": [
      "How many elements in the array?: 5\n",
      "List the elements separated by a space: 3 9 9 18 18\n",
      "11.4\n",
      "9.0\n",
      "9\n"
     ]
    }
   ],
   "source": [
    "num_elements = input('How many elements in the array?: ')\n",
    "arr = list(map(int, input('List the elements separated by a space: ').split()))\n",
    "print(np.mean(arr))\n",
    "print(np.median(arr))\n",
    "print(stats.mode(arr)[0][0])"
   ]
  },
  {
   "cell_type": "code",
   "execution_count": null,
   "id": "fd11957f",
   "metadata": {},
   "outputs": [],
   "source": []
  }
 ],
 "metadata": {
  "kernelspec": {
   "display_name": "Python 3",
   "language": "python",
   "name": "python3"
  },
  "language_info": {
   "codemirror_mode": {
    "name": "ipython",
    "version": 3
   },
   "file_extension": ".py",
   "mimetype": "text/x-python",
   "name": "python",
   "nbconvert_exporter": "python",
   "pygments_lexer": "ipython3",
   "version": "3.8.8"
  }
 },
 "nbformat": 4,
 "nbformat_minor": 5
}
