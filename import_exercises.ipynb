{
 "cells": [
  {
   "cell_type": "code",
   "execution_count": null,
   "id": "85bac9d7",
   "metadata": {},
   "outputs": [],
   "source": [
    "from function_exercises import get_letter_grade as gr"
   ]
  },
  {
   "cell_type": "code",
   "execution_count": null,
   "id": "c9329b46",
   "metadata": {},
   "outputs": [],
   "source": [
    "gr(89)"
   ]
  },
  {
   "cell_type": "code",
   "execution_count": null,
   "id": "82855a78",
   "metadata": {},
   "outputs": [],
   "source": [
    "import itertools"
   ]
  },
  {
   "cell_type": "markdown",
   "id": "0451b1f9",
   "metadata": {},
   "source": [
    "How many different ways can you combine the letters from \"abc\" with the numbers 1, 2, and 3?"
   ]
  },
  {
   "cell_type": "code",
   "execution_count": null,
   "id": "202441a4",
   "metadata": {},
   "outputs": [],
   "source": [
    "for i in itertools.product('abc', '123'):\n",
    "    print(i)"
   ]
  },
  {
   "cell_type": "markdown",
   "id": "bce61dc8",
   "metadata": {},
   "source": [
    "How many different combinations are there of 2 letters from \"abcd\"?"
   ]
  },
  {
   "cell_type": "code",
   "execution_count": null,
   "id": "a535ea64",
   "metadata": {},
   "outputs": [],
   "source": [
    "for i in itertools.combinations('abcd', 2):\n",
    "    print(i)"
   ]
  },
  {
   "cell_type": "markdown",
   "id": "3887d9f5",
   "metadata": {},
   "source": [
    "How many different permutations are there of 2 letters from \"abcd\"?"
   ]
  },
  {
   "cell_type": "code",
   "execution_count": null,
   "id": "2e9e3ceb",
   "metadata": {},
   "outputs": [],
   "source": [
    "for i in itertools.permutations('abcd', 2):\n",
    "    print(i)"
   ]
  },
  {
   "cell_type": "code",
   "execution_count": null,
   "id": "f46eee08",
   "metadata": {},
   "outputs": [],
   "source": []
  }
 ],
 "metadata": {
  "kernelspec": {
   "display_name": "Python 3",
   "language": "python",
   "name": "python3"
  },
  "language_info": {
   "codemirror_mode": {
    "name": "ipython",
    "version": 3
   },
   "file_extension": ".py",
   "mimetype": "text/x-python",
   "name": "python",
   "nbconvert_exporter": "python",
   "pygments_lexer": "ipython3",
   "version": "3.8.8"
  }
 },
 "nbformat": 4,
 "nbformat_minor": 5
}
